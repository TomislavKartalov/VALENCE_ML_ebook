{
 "cells": [
  {
   "attachments": {},
   "cell_type": "markdown",
   "metadata": {},
   "source": [
    "# Machine learning basics\n"
   ]
  },
  {
   "attachments": {},
   "cell_type": "markdown",
   "metadata": {},
   "source": [
    "## What is machine learning?\n",
    "\n",
    "Machine learning is a subfield of computer science that involves creating algorithms that learn from examples to solve practical problems. It involves gathering a dataset and building a statistical model from it to be used in solving the problem. \n",
    "\n",
    "One example of a practical problem that can be solved using machine learning is image classification.\n",
    "<ol>\n",
    " <li>A dataset of images, each labeled with its corresponding object class (e.g. dog, cat, car, etc.), is gathered.</li>\n",
    "<li>An algorithm is used to train a model on this dataset, which learns to recognize the features and patterns that distinguish one object class from another.</li>\n",
    "<li>Once trained, the model can be used to classify new, previously unseen images into their correct object classes.</li>\n",
    "</ol>\n",
    "\n",
    "In this case, the model is a statistical model that is built using the dataset of labeled images, and it is used to classify new images based on the learned features and patterns."
   ]
  },
  {
   "attachments": {},
   "cell_type": "markdown",
   "metadata": {},
   "source": [
    "## Supervised learning \n",
    "Supervised learning is a type of machine learning where we have a dataset that includes both input data and the corresponding correct output. The goal is to train a model on this dataset, so it can make predictions about new, unseen data.\n",
    "\n",
    "Imagine you have a dataset of pictures of animals, and each picture is labeled with the name of the animal in the picture (e.g. \"dog\", \"cat\", \"horse\"). We can use this dataset to train a model that can take a new picture as input and predict what animal is in the picture. This is an example of supervised learning.\n",
    "\n",
    "In supervised learning, we have a dataset that includes examples of inputs (such as images) and the corresponding correct outputs (such as labels). We use an algorithm to train a model on this dataset, so it can learn the patterns and relationships between the inputs and outputs. Once the model is trained, we can use it to make predictions on new data.\n",
    "\n",
    "Supervised learning can be used for a variety of tasks, such as image classification, speech recognition, and natural language processing.\n",
    "\n",
    "In this case, the model is presented with an image and a label (e.g. \"dog\", \"cat\", \"horse\") corresponding to the animal in the image, and it learns to associate certain features of the image with the correct label.\n",
    "\n",
    "During the training phase, the model is presented with many examples of images and their corresponding labels, and it learns to recognize the patterns and relationships between the images and labels. Once the model is trained, it can take a new image as input and predict the label (i.e. the animal) that corresponds to that image.\n",
    "\n",
    "The next example shows a simple example, how some trends can be predicted. The regression algorithms will be studied more in depth in future chapters this is just for demonstration purposes. \n",
    "\n",
    "We are using the linear regression algorithm which basically gives us a linear function, which in math looks like this : \n",
    "\n",
    "**f(x) = mx + b** \n",
    "\n",
    "x - input\n",
    "\n",
    "f - output\n",
    "\n",
    "m - slope \n",
    "\n",
    "b - intercept\n",
    "\n",
    " If the algorithm gives us the intercept and the slope we can estimate the output for every input."
   ]
  },
  {
   "cell_type": "code",
   "execution_count": 15,
   "metadata": {},
   "outputs": [],
   "source": [
    "import matplotlib.pyplot as plt\n",
    "import numpy as np\n",
    "from scipy import stats"
   ]
  },
  {
   "cell_type": "code",
   "execution_count": 16,
   "metadata": {},
   "outputs": [],
   "source": [
    "# Generate some sample data\n",
    "x = np.array([1, 2, 3, 4, 5])\n",
    "y = np.array([2, 4, 2, 5, 6])"
   ]
  },
  {
   "cell_type": "code",
   "execution_count": 17,
   "metadata": {},
   "outputs": [],
   "source": [
    "\n",
    "# Train the model using the sample data\n",
    "slope, intercept, _, _, _ = stats.linregress(x, y)"
   ]
  },
  {
   "attachments": {},
   "cell_type": "markdown",
   "metadata": {},
   "source": [
    "The underscores ( _ ) mean that there is a return value which is not important at the moment."
   ]
  },
  {
   "cell_type": "code",
   "execution_count": 18,
   "metadata": {},
   "outputs": [],
   "source": [
    "# Use the model to make predictions\n",
    "x_new = np.array([6, 7, 8])\n",
    "y_pred = intercept + slope * x_new\n",
    "\n"
   ]
  },
  {
   "cell_type": "code",
   "execution_count": 20,
   "metadata": {},
   "outputs": [
    {
     "data": {
      "image/png": "[encoded data removed]",
      "text/plain": [
       "<Figure size 640x480 with 1 Axes>"
      ]
     },
     "metadata": {},
     "output_type": "display_data"
    }
   ],
   "source": [
    "# Plot the sample data\n",
    "plt.scatter(x, y,color='blue')\n",
    "# Plot the linear regression line\n",
    "plt.scatter(x_new, y_pred, color='red')\n",
    "\n",
    "\n",
    "# Add labels and show the plot\n",
    "plt.xlabel('x')\n",
    "plt.ylabel('y')\n",
    "plt.show()"
   ]
  },
  {
   "attachments": {},
   "cell_type": "markdown",
   "metadata": {},
   "source": [
    "The blue dots are the data that we used to train the model. And the red ones are the predicted values for the input [6, 7, 8]. \n",
    "\n",
    "As we can see we gave the algorithm both the input and the output, then it formed a model in which we can now give inputs and it will give us the correct output. That is supervised learning."
   ]
  },
  {
   "attachments": {},
   "cell_type": "markdown",
   "metadata": {},
   "source": [
    "## Model and instance\n",
    "A model is a mathematical representation of a system or process. It can be used to make predictions or decisions based on data. An instance is a specific occurrence or example of something, such as a particular object or event. In the context of machine learning, an instance is a specific set of input data used to train or test a model.\n",
    "\n",
    "A example of a model would be a coin flip. In this case, the model would be a mathematical representation of the probability of getting either heads or tails when a coin is flipped. The model would be a binomial distribution with two possible outcomes: heads (H) or tails (T) with a probability of 0.5 for each outcome. An instance of this model would be a specific coin flip, where the outcome (heads or tails) would be the input data, and the model would use the probability of 0.5 to predict the outcome of the coin flip.\n",
    "\n",
    "In our previous example the model x is the input data y is the output, the model is y_pred = intercept + slope * x_new and the instance is for example for the input 6 the output 7. \n"
   ]
  },
  {
   "attachments": {},
   "cell_type": "markdown",
   "metadata": {},
   "source": [
    "## Regression\n",
    "\n",
    "Regression is a method of predicting a numerical value (label) based on a set of input features. An example is predicting a house's price based on its area, number of bedrooms, and location. A regression algorithm takes a set of labeled examples and produces a model that can make predictions on new, unlabeled examples. A type of regression algorithm was used in the previous example."
   ]
  },
  {
   "attachments": {},
   "cell_type": "markdown",
   "metadata": {},
   "source": [
    "## Classification\n",
    "\n",
    "Classification is a task in machine learning where a model is trained to assign a specific class label to a given input. Spam detection is an example of classification, where the model is trained to predict whether an email is spam or not. Another example would be image classification, where we can for example recognize different animals from pictures. \n",
    "\n",
    "A classification algorithm takes a collection of labeled examples as inputs and produces a model that can take an unlabeled example as input and output a label or a number that can be used to deduce the label easily, such as a probability. \n",
    "\n",
    "Both regression and classification are supervised algorithms but regression is used to predict a numerical values, while classification is used to predict categories or classes."
   ]
  },
  {
   "attachments": {},
   "cell_type": "markdown",
   "metadata": {},
   "source": [
    "## Unsupervised learning"
   ]
  },
  {
   "attachments": {},
   "cell_type": "markdown",
   "metadata": {},
   "source": [
    "Unsupervised learning deals with problems in which your dataset doesn’t have labels. This\n",
    "property is what makes it very problematic for many practical applications. The absence\n",
    "of labels which represent the desired behavior for your model means the absence of a solid\n",
    "reference point to judge the quality of your model.\n",
    "\n",
    "Unsupervised Learning is a machine learning technique in which the users do not need to supervise the model. Instead, it allows the model to work on its own to discover patterns and information that was previously undetected. It mainly deals with the unlabelled data.\n",
    "\n",
    "Unsupervised Learning Algorithms allow users to perform more complex processing tasks compared to supervised learning. Although, unsupervised learning can be more unpredictable compared with other natural learning methods. \n",
    "\n",
    "\n",
    "Let’s, take an example of unsupervised Learning a child playing with blocks and figuring out how they fit together to build different structures. The child is not being given specific instructions or labels for the blocks, but instead is exploring and experimenting to find out how they can be used. Similarly, a child playing with different toys and discovering how they work and what they can do with them is an example of unsupervised learning. Through these activities, the child is able to learn and understand their environment without direct supervision or guidance.\n",
    "\n",
    "Another example is clustering, where a retail company may group customers together based on their purchasing habits. The algorithm would analyze the purchase history of each customer and group them into different clusters based on the products they tend to buy and how frequently they make purchases. The company could then use this information to create targeted marketing campaigns for each cluster (group) of customers.\n",
    "\n",
    "\n",
    "Basicaly unsupervised learning is how humans learn. So this kind of behaviour is more human so it is closer to a real AI. In real life applications we don't always have labeled data, and the data isn't always categorized, also not every input data has a coresponding output. So in these cases we use unsupervised learning.\n",
    "\n"
   ]
  }
 ],
 "metadata": {
  "kernelspec": {
   "display_name": "base",
   "language": "python",
   "name": "python3"
  },
  "language_info": {
   "codemirror_mode": {
    "name": "ipython",
    "version": 3
   },
   "file_extension": ".py",
   "mimetype": "text/x-python",
   "name": "python",
   "nbconvert_exporter": "python",
   "pygments_lexer": "ipython3",
   "version": "3.9.13"
  },
  "orig_nbformat": 4,
  "vscode": {
   "interpreter": {
    "hash": "17b278bc7a0163406863801e9ff328cef6bd5f7ace6571203c0c27149f313665"
   }
  }
 },
 "nbformat": 4,
 "nbformat_minor": 2
}
